{
 "metadata": {
  "language_info": {
   "codemirror_mode": {
    "name": "ipython",
    "version": 3
   },
   "file_extension": ".py",
   "mimetype": "text/x-python",
   "name": "python",
   "nbconvert_exporter": "python",
   "pygments_lexer": "ipython3",
   "version": "3.9.2-final"
  },
  "orig_nbformat": 2,
  "kernelspec": {
   "name": "python3",
   "display_name": "Python 3.9.2 64-bit",
   "metadata": {
    "interpreter": {
     "hash": "84a6dbff3a0a4ee084723c732b77410d1b8bbf139fa91bf316c808d7992341ae"
    }
   }
  }
 },
 "nbformat": 4,
 "nbformat_minor": 2,
 "cells": [
  {
   "source": [
    "# Selenium을 이용한 동적 크롤링"
   ],
   "cell_type": "markdown",
   "metadata": {}
  },
  {
   "cell_type": "code",
   "execution_count": 27,
   "metadata": {},
   "outputs": [],
   "source": [
    "import requests, time\n",
    "from selenium import webdriver\n",
    "from selenium.webdriver.common.keys import Keys"
   ]
  },
  {
   "cell_type": "code",
   "execution_count": 28,
   "metadata": {},
   "outputs": [],
   "source": [
    "from bs4 import BeautifulSoup\n",
    "\n",
    "url = 'https://sports.news.naver.com/kbaseball/news/index.nhn?isphoto=N'\n",
    "req = requests.get(url)\n",
    "soup = BeautifulSoup(req.text, 'html.parser')\n",
    "\n",
    "# BeautifulSoup으로 크롤링을 하려고 하였지만 본문은 크롤링이 안됨"
   ]
  },
  {
   "source": [
    "야구뉴스 > 최신뉴스"
   ],
   "cell_type": "markdown",
   "metadata": {}
  },
  {
   "cell_type": "code",
   "execution_count": 29,
   "metadata": {},
   "outputs": [],
   "source": [
    "driver = webdriver.Chrome('chromedriver')\n",
    "url = 'https://sports.news.naver.com/kbaseball/news/index.nhn?isphoto=N'\n",
    "driver.get(url)"
   ]
  },
  {
   "cell_type": "code",
   "execution_count": 30,
   "metadata": {},
   "outputs": [],
   "source": [
    "# 최신 뉴스 리스트의 맨 마지막 페이지\n",
    "while True:\n",
    "    page = driver.find_element_by_id('_pageList')\n",
    "    try:\n",
    "        next = page.find_element_by_class_name('next')\n",
    "        if next:\n",
    "            next.click()\n",
    "    except:\n",
    "        break;"
   ]
  },
  {
   "cell_type": "code",
   "execution_count": 31,
   "metadata": {},
   "outputs": [
    {
     "output_type": "execute_result",
     "data": {
      "text/plain": [
       "1"
      ]
     },
     "metadata": {},
     "execution_count": 31
    }
   ],
   "source": [
    "page = driver.find_element_by_id('_pageList')\n",
    "try:\n",
    "    atags = page.find_elements_by_tag_name('a')\n",
    "    numPage = int(atags[-1].text)\n",
    "except:\n",
    "    numPage = 1\n",
    "numPage"
   ]
  },
  {
   "cell_type": "code",
   "execution_count": 32,
   "metadata": {},
   "outputs": [
    {
     "output_type": "execute_result",
     "data": {
      "text/plain": [
       "20"
      ]
     },
     "metadata": {},
     "execution_count": 32
    }
   ],
   "source": [
    "news = driver.find_element_by_id('_newsList')\n",
    "lis = news.find_elements_by_tag_name('li')\n",
    "len(lis)"
   ]
  },
  {
   "cell_type": "code",
   "execution_count": 33,
   "metadata": {},
   "outputs": [
    {
     "output_type": "stream",
     "name": "stdout",
     "text": [
      "1년 전에도 완벽했던 봄…박세웅이 기다릴 ‘4월 개막’ [오!쎈 부산]\n",
      "[부산 리포트] '적시타' 추신수-'병살타' 이대호…동갑내기의 엇갈린 득점권\n",
      "\"태율이, 넌 톱이야\" \"추신수 선배님 영광입니다.\"\n",
      "힐리의 '힐링 3점포'…한화 3전 전승\n",
      "산뜻한 출발 kt 쿠에바스 \"짧았던 비시즌, 올해 준비에 더 도움 됐다\" [MK톡톡]\n",
      "“커브에 몸이 반응” 한화 4번타자 첫 홈런, 그 짜릿한 순간 [잠실 톡톡]\n",
      "추신수, 국내 무대 첫 타점도 신고\n",
      "[SPO 사직] ‘최고 149㎞’ 위력투… 절치부심 박세웅, 에이스로 다시 돌아올까\n",
      "‘득점권 실투 공략’ 힐리, 수베로 감독이 원했던 그 모습 [오!쎈 잠실]\n",
      "[부산 코멘트] '추신수에게 적시타' 박세웅, \"볼넷으로 맞은 위기, 보완할 부분\"\n",
      "'첫 손맛' 힐리의 유쾌한 홈런 소감, \"맞바람 걱정했는데\"\n",
      "두산, 최원준이라는 희망 [잠실:포인트]\n",
      "'4이닝 43구 순삭' 쿠에바스, 경기 끝나고 불펜 피칭으로 투구 수 채우다 [오!쎈 수원]\n",
      "‘비공식 5할타자’ 벌써 뜨거운 강백호의 2021년은 이미 시작됐다\n",
      "커터 경쟁력 증명한 쿠에바스 \"PS 좋은 컨디션 이어가 더 잘 준비\"[SS인터뷰]\n",
      "광주에 괴물투수 등장! 진흥고 특급 문동주 154km 던졌다\n",
      "압도적 구위 아닌데도 비자책 쾌투...멩덴 \"여러 구종 시험, 90% 상태\" [오!쎈 톡톡]\n",
      "[프로야구 종합]힐리, 프레이타스 KBO 리그 입성 축하 홈런포---멩덴과 스미스도 합격점 받아\n",
      "추신수 \"꽝~ \"…2타점 적시타, KBO리그 첫 타점 신고\n",
      "“감사하고 또 감사해” 특별한 생일 보낸 삼성 김상수\n"
     ]
    }
   ],
   "source": [
    "for li in lis:\n",
    "    text = li.find_element_by_class_name('title')\n",
    "    title = text.find_element_by_tag_name('span').text\n",
    "    print(title)"
   ]
  },
  {
   "cell_type": "code",
   "execution_count": 34,
   "metadata": {},
   "outputs": [
    {
     "output_type": "stream",
     "name": "stdout",
     "text": [
      "스포츠홈\n",
      "야구\n",
      "해외야구\n",
      "축구\n",
      "해외축구\n",
      "농구\n",
      "배구\n",
      "골프\n",
      "일반\n",
      "e스포츠&게임\n",
      "오늘의 경기\n",
      "연재\n",
      "랭킹\n"
     ]
    }
   ],
   "source": [
    "menus = driver.find_elements_by_class_name('main_menu_item')\n",
    "for menu in menus:\n",
    "    event = menu.find_element_by_tag_name('a').text\n",
    "    print(event)"
   ]
  },
  {
   "cell_type": "code",
   "execution_count": 35,
   "metadata": {},
   "outputs": [
    {
     "output_type": "execute_result",
     "data": {
      "text/plain": [
       "['https://sports.news.naver.com/kbaseball/index.nhn',\n",
       " 'https://sports.news.naver.com/wbaseball/index.nhn',\n",
       " 'https://sports.news.naver.com/kfootball/index.nhn',\n",
       " 'https://sports.news.naver.com/wfootball/index.nhn',\n",
       " 'https://sports.news.naver.com/basketball/index.nhn',\n",
       " 'https://sports.news.naver.com/volleyball/index.nhn',\n",
       " 'https://sports.news.naver.com/golf/index.nhn',\n",
       " 'https://sports.news.naver.com/general/index.nhn',\n",
       " 'https://sports.news.naver.com/esports/index.nhn']"
      ]
     },
     "metadata": {},
     "execution_count": 35
    }
   ],
   "source": [
    "menus = driver.find_elements_by_class_name('main_menu_item')\n",
    "events = []\n",
    "for menu in menus[1:-3]:\n",
    "    event = menu.find_element_by_tag_name('a').get_attribute('href')\n",
    "    events.append(event)\n",
    "events"
   ]
  },
  {
   "cell_type": "code",
   "execution_count": 36,
   "metadata": {},
   "outputs": [
    {
     "output_type": "execute_result",
     "data": {
      "text/plain": [
       "['kbaseball',\n",
       " 'wbaseball',\n",
       " 'kfootball',\n",
       " 'wfootball',\n",
       " 'basketball',\n",
       " 'volleyball',\n",
       " 'golf',\n",
       " 'general',\n",
       " 'esports']"
      ]
     },
     "metadata": {},
     "execution_count": 36
    }
   ],
   "source": [
    "menus = driver.find_elements_by_class_name('main_menu_item')\n",
    "events = []\n",
    "for menu in menus[1:-3]:\n",
    "    event = menu.find_element_by_tag_name('a').get_attribute('href')\n",
    "    events.append(event.split('/')[3])\n",
    "events"
   ]
  },
  {
   "cell_type": "code",
   "execution_count": 37,
   "metadata": {},
   "outputs": [
    {
     "output_type": "stream",
     "name": "stdout",
     "text": [
      "kbaseball: 19\n",
      "wbaseball: 7\n",
      "kfootball: 12\n",
      "wfootball: 12\n",
      "basketball: 8\n",
      "volleyball: 5\n",
      "golf: 6\n",
      "general: 8\n",
      "esports: 9\n"
     ]
    }
   ],
   "source": [
    "base_url = 'https://sports.news.naver.com/'\n",
    "sub_url = '/news/index.nhn?isphoto=N'\n",
    "for event in events:\n",
    "    print(event, end=': ')\n",
    "    url = f'{base_url}{event}{sub_url}'\n",
    "    driver.get(url)\n",
    "    time.sleep(1)\n",
    "\n",
    "    while True:\n",
    "        page = driver.find_element_by_id('_pageList')\n",
    "        try:\n",
    "            next = page.find_element_by_class_name('next')\n",
    "            if next:\n",
    "                next.click()\n",
    "        except:\n",
    "            break;\n",
    "\n",
    "    page = driver.find_element_by_id('_pageList')\n",
    "    try:\n",
    "        atags = page.find_elements_by_tag_name('a')\n",
    "        numPage = int(atags[-1].text)\n",
    "    except:\n",
    "        numPage = 1\n",
    "    \n",
    "    print(numPage)"
   ]
  },
  {
   "cell_type": "code",
   "execution_count": 38,
   "metadata": {},
   "outputs": [
    {
     "output_type": "stream",
     "name": "stdout",
     "text": [
      "kbaseball: 20 - 1, 2, 3, 4, 5, 6, 7, 8, 9, 10, 11, 12, 13, 14, 15, 16, 17, 18, 19, 20, \n",
      "wbaseball: 7 - 1, 2, 3, 4, 5, 6, 7, \n",
      "kfootball: 11 - 1, 2, 3, 4, 5, 6, 7, 8, 9, 10, 11, \n",
      "wfootball: 12 - 1, 2, 3, 4, 5, 6, 7, 8, 9, 10, 11, 12, \n",
      "basketball: 8 - 1, 2, 3, 4, 5, 6, 7, 8, \n",
      "volleyball: 5 - 1, 2, 3, 4, 5, \n",
      "golf: 6 - 1, 2, 3, 4, 5, 6, \n",
      "general: 8 - 1, 2, 3, 4, 5, 6, 7, 8, \n",
      "esports: 9 - 1, 2, 3, 4, 5, 6, 7, 8, 9, \n"
     ]
    }
   ],
   "source": [
    "title_list = []\n",
    "for event in events:\n",
    "    print(event, end=': ')\n",
    "    url = f'{base_url}{event}{sub_url}'\n",
    "    driver.get(url)\n",
    "    time.sleep(1)\n",
    "\n",
    "    while True:\n",
    "        page = driver.find_element_by_id('_pageList')\n",
    "        try:\n",
    "            next = page.find_element_by_class_name('next')\n",
    "            if next:\n",
    "                next.click()\n",
    "        except:\n",
    "            break;\n",
    "\n",
    "    page = driver.find_element_by_id('_pageList')\n",
    "    try:\n",
    "        atags = page.find_elements_by_tag_name('a')\n",
    "        numPage = int(atags[-1].text)\n",
    "    except:\n",
    "        numPage = 1\n",
    "    \n",
    "    print(numPage, end=' - ')\n",
    "\n",
    "    for page in range(1, numPage+1):\n",
    "        print(page, end=', ')\n",
    "        url = f'{base_url}{event}{sub_url}&page={page}'\n",
    "        driver.get(url)\n",
    "        time.sleep(1)\n",
    "\n",
    "        news = driver.find_element_by_id('_newsList')\n",
    "        lis = news.find_elements_by_tag_name('li')\n",
    "        for li in lis:\n",
    "            text = li.find_element_by_class_name('title')\n",
    "            title = text.find_element_by_tag_name('span').text\n",
    "            title_list.append(title)\n",
    "    print()"
   ]
  },
  {
   "cell_type": "code",
   "execution_count": 39,
   "metadata": {},
   "outputs": [
    {
     "output_type": "execute_result",
     "data": {
      "text/plain": [
       "1646"
      ]
     },
     "metadata": {},
     "execution_count": 39
    }
   ],
   "source": [
    "len(title_list)"
   ]
  },
  {
   "cell_type": "code",
   "execution_count": 40,
   "metadata": {},
   "outputs": [],
   "source": [
    "title_str = '\\n'.join(title for title in title_list)\n",
    "with open('sport.txt', 'w',encoding='utf8') as fp:\n",
    "    fp.write(title_str)"
   ]
  },
  {
   "cell_type": "code",
   "execution_count": null,
   "metadata": {},
   "outputs": [],
   "source": []
  }
 ]
}