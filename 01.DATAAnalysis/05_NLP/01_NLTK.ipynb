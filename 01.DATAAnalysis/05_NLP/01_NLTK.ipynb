{
 "metadata": {
  "language_info": {
   "codemirror_mode": {
    "name": "ipython",
    "version": 3
   },
   "file_extension": ".py",
   "mimetype": "text/x-python",
   "name": "python",
   "nbconvert_exporter": "python",
   "pygments_lexer": "ipython3",
   "version": "3.9.2-final"
  },
  "orig_nbformat": 2,
  "kernelspec": {
   "name": "python3",
   "display_name": "Python 3.9.2 64-bit",
   "metadata": {
    "interpreter": {
     "hash": "84a6dbff3a0a4ee084723c732b77410d1b8bbf139fa91bf316c808d7992341ae"
    }
   }
  }
 },
 "nbformat": 4,
 "nbformat_minor": 2,
 "cells": [
  {
   "cell_type": "code",
   "execution_count": 1,
   "metadata": {},
   "outputs": [
    {
     "output_type": "stream",
     "name": "stdout",
     "text": [
      "Collecting nltk\n  Downloading nltk-3.5.zip (1.4 MB)\nCollecting click\n  Downloading click-7.1.2-py2.py3-none-any.whl (82 kB)\nCollecting joblib\n  Downloading joblib-1.0.1-py3-none-any.whl (303 kB)\nCollecting regex\n  Downloading regex-2021.3.17-cp39-cp39-win_amd64.whl (270 kB)\nCollecting tqdm\n  Downloading tqdm-4.59.0-py2.py3-none-any.whl (74 kB)\nUsing legacy 'setup.py install' for nltk, since package 'wheel' is not installed.\nInstalling collected packages: tqdm, regex, joblib, click, nltk\n    Running setup.py install for nltk: started\n    Running setup.py install for nltk: finished with status 'done'\nSuccessfully installed click-7.1.2 joblib-1.0.1 nltk-3.5 regex-2021.3.17 tqdm-4.59.0\nNote: you may need to restart the kernel to use updated packages.\n"
     ]
    }
   ],
   "source": [
    "pip install nltk"
   ]
  },
  {
   "cell_type": "code",
   "execution_count": 2,
   "metadata": {},
   "outputs": [],
   "source": [
    "# NLTK 자연어 처리방법"
   ]
  },
  {
   "cell_type": "code",
   "execution_count": 1,
   "metadata": {},
   "outputs": [],
   "source": [
    "import nltk"
   ]
  },
  {
   "cell_type": "code",
   "execution_count": null,
   "metadata": {},
   "outputs": [],
   "source": []
  },
  {
   "cell_type": "code",
   "execution_count": null,
   "metadata": {},
   "outputs": [],
   "source": []
  }
 ]
}